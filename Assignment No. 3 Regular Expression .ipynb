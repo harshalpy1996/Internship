{
 "cells": [
  {
   "cell_type": "raw",
   "id": "76830fb3",
   "metadata": {},
   "source": [
    "Question 1- Write a Python program to replace all occurrences of a space, comma, or dot with a colon.\n",
    "Sample Text- 'Python Exercises, PHP exercises.'\n",
    "Expected Output: Python:Exercises::PHP:exercises:\n"
   ]
  },
  {
   "cell_type": "code",
   "execution_count": 1,
   "id": "28716e69",
   "metadata": {},
   "outputs": [
    {
     "name": "stdout",
     "output_type": "stream",
     "text": [
      "Expected Output: Python:Exercises::PHP:exercises:\n"
     ]
    }
   ],
   "source": [
    "def replace_characters(input_string):\n",
    "    # Characters to be replaced\n",
    "    characters_to_replace = [' ', ',', '.']\n",
    "    \n",
    "    # Replace each character with a colon\n",
    "    for char in characters_to_replace:\n",
    "        input_string = input_string.replace(char, ':')\n",
    "    \n",
    "    return input_string\n",
    "\n",
    "# Sample text\n",
    "sample_text = \"Python Exercises, PHP exercises.\"\n",
    "# Replace characters in the sample text\n",
    "result = replace_characters(sample_text)\n",
    "\n",
    "print(\"Expected Output:\", result)\n"
   ]
  },
  {
   "cell_type": "raw",
   "id": "04c72749",
   "metadata": {},
   "source": [
    "Question 2-  Create a dataframe using the dictionary below and remove everything (commas (,), !, XXXX, ;, etc.) from the columns except words.\n",
    "Dictionary- {'SUMMARY' : ['hello, world!', 'XXXXX test', '123four, five:; six...']}\n",
    "Expected output-\n",
    "0      hello world\n",
    "1             test\n",
    "2    four five six\n"
   ]
  },
  {
   "cell_type": "code",
   "execution_count": 2,
   "id": "f0b968d1",
   "metadata": {},
   "outputs": [
    {
     "name": "stdout",
     "output_type": "stream",
     "text": [
      "            SUMMARY\n",
      "0       hello world\n",
      "1        XXXXX test\n",
      "2  123four five six\n"
     ]
    }
   ],
   "source": [
    "import pandas as pd\n",
    "import re\n",
    "\n",
    "# Dictionary provided\n",
    "data = {'SUMMARY': ['hello, world!', 'XXXXX test', '123four, five:; six...']}\n",
    "\n",
    "# Create a DataFrame\n",
    "df = pd.DataFrame(data)\n",
    "\n",
    "# Function to clean the text\n",
    "def clean_text(text):\n",
    "    # Use regex to remove everything except words\n",
    "    return ' '.join(re.findall(r'\\b\\w+\\b', text))\n",
    "\n",
    "# Apply the clean_text function to the 'SUMMARY' column\n",
    "df['SUMMARY'] = df['SUMMARY'].apply(clean_text)\n",
    "\n",
    "# Print the DataFrame\n",
    "print(df)\n"
   ]
  },
  {
   "cell_type": "markdown",
   "id": "fe6d09d3",
   "metadata": {},
   "source": [
    "Question 3- Create a function in python to find all words that are at least 4 characters long in a string. The use of the re.compile() method is mandatory."
   ]
  },
  {
   "cell_type": "code",
   "execution_count": 3,
   "id": "7adee0d9",
   "metadata": {},
   "outputs": [
    {
     "name": "stdout",
     "output_type": "stream",
     "text": [
      "Words with at least 4 characters: ['This', 'test', 'string', 'with', 'several', 'words', 'different', 'lengths']\n"
     ]
    }
   ],
   "source": [
    "import re\n",
    "\n",
    "def find_long_words(text):\n",
    "    # Compile the regular expression pattern for words with at least 4 characters\n",
    "    pattern = re.compile(r'\\b\\w{4,}\\b')\n",
    "    \n",
    "    # Find all matches of the pattern in the text\n",
    "    long_words = pattern.findall(text)\n",
    "    \n",
    "    return long_words\n",
    "\n",
    "# Test the function\n",
    "test_string = \"This is a test string with several words of different lengths.\"\n",
    "result = find_long_words(test_string)\n",
    "print(\"Words with at least 4 characters:\", result)\n"
   ]
  },
  {
   "cell_type": "markdown",
   "id": "57abcf15",
   "metadata": {},
   "source": [
    "Question 4- Create a function in python to find all three, four, and five character words in a string. The use of the re.compile() method is mandatory."
   ]
  },
  {
   "cell_type": "code",
   "execution_count": 4,
   "id": "77c1b05b",
   "metadata": {},
   "outputs": [
    {
     "name": "stdout",
     "output_type": "stream",
     "text": [
      "Words with 3, 4, or 5 characters: ['This', 'test', 'with', 'words']\n"
     ]
    }
   ],
   "source": [
    "import re\n",
    "\n",
    "def find_specific_length_words(text):\n",
    "    # Compile the regular expression pattern for words with exactly 3, 4, or 5 characters\n",
    "    pattern = re.compile(r'\\b\\w{3,5}\\b')\n",
    "    \n",
    "    # Find all matches of the pattern in the text\n",
    "    specific_length_words = pattern.findall(text)\n",
    "    \n",
    "    return specific_length_words\n",
    "\n",
    "# Test the function\n",
    "test_string = \"This is a test string with several words of different lengths.\"\n",
    "result = find_specific_length_words(test_string)\n",
    "print(\"Words with 3, 4, or 5 characters:\", result)\n"
   ]
  },
  {
   "cell_type": "raw",
   "id": "468ff79c",
   "metadata": {},
   "source": [
    "Question 5- Create a function in Python to remove the parenthesis in a list of strings. The use of the re.compile() method is mandatory.\n",
    "Sample Text: [\"example (.com)\", \"hr@fliprobo (.com)\", \"github (.com)\", \"Hello (Data Science World)\", \"Data (Scientist)\"]\n",
    "Expected Output:\n",
    "example.com\n",
    "hr@fliprobo.com\n",
    "github.com\n",
    "Hello Data Science World\n"
   ]
  },
  {
   "cell_type": "code",
   "execution_count": 5,
   "id": "a0befd42",
   "metadata": {},
   "outputs": [
    {
     "name": "stdout",
     "output_type": "stream",
     "text": [
      "example\n",
      "hr@fliprobo\n",
      "github\n",
      "Hello\n",
      "Data\n"
     ]
    }
   ],
   "source": [
    "import re\n",
    "\n",
    "def remove_parentheses(text_list):\n",
    "    # Compile the regular expression pattern to match parentheses and their contents\n",
    "    pattern = re.compile(r'\\s?\\(.*?\\)')\n",
    "    \n",
    "    # Function to remove parentheses from a single string\n",
    "    def clean_text(text):\n",
    "        return pattern.sub('', text)\n",
    "    \n",
    "    # Apply the clean_text function to each string in the list\n",
    "    cleaned_list = [clean_text(text) for text in text_list]\n",
    "    \n",
    "    return cleaned_list\n",
    "\n",
    "# Sample text\n",
    "sample_text = [\"example (.com)\", \"hr@fliprobo (.com)\", \"github (.com)\", \"Hello (Data Science World)\", \"Data (Scientist)\"]\n",
    "# Remove parentheses\n",
    "result = remove_parentheses(sample_text)\n",
    "\n",
    "# Print the result\n",
    "for item in result:\n",
    "    print(item)\n"
   ]
  },
  {
   "cell_type": "raw",
   "id": "b838bf49",
   "metadata": {},
   "source": [
    "Question 6- Write a python program to remove the parenthesis area from the text stored in the text file using Regular Expression."
   ]
  },
  {
   "cell_type": "code",
   "execution_count": 12,
   "id": "b568d5c4",
   "metadata": {},
   "outputs": [
    {
     "name": "stdout",
     "output_type": "stream",
     "text": [
      "Parentheses removed from the text file.\n"
     ]
    }
   ],
   "source": [
    "import re\n",
    "\n",
    "def remove_parentheses_from_file(file_path):\n",
    "    # Compile the regular expression pattern to match parentheses and their contents\n",
    "    pattern = re.compile(r'\\s?\\(.*?\\)')\n",
    "    \n",
    "    # Read the contents of the file\n",
    "    with open(file_path, 'r') as file:\n",
    "        content = file.read()\n",
    "    \n",
    "    # Remove parentheses and their contents from the text\n",
    "    cleaned_content = pattern.sub('', content)\n",
    "    \n",
    "    # Write the cleaned text back to the file\n",
    "    with open(file_path, 'w') as file:\n",
    "        file.write(cleaned_content)\n",
    "\n",
    "# Specify the path to the text file\n",
    "file_path = 'sample_text.txt'\n",
    "\n",
    "# Remove parentheses from the text file\n",
    "remove_parentheses_from_file(file_path)\n",
    "\n",
    "# Print confirmation message\n",
    "print(\"Parentheses removed from the text file.\")\n"
   ]
  },
  {
   "cell_type": "code",
   "execution_count": 13,
   "id": "d1384991",
   "metadata": {},
   "outputs": [
    {
     "name": "stdout",
     "output_type": "stream",
     "text": [
      " [\"example\", \"hr@fliprobo\", \"github\", \"Hello\", \"Data\"]\n"
     ]
    }
   ],
   "source": [
    "# Define the path to the text file\n",
    "file_path = 'sample_text.txt'\n",
    "\n",
    "# Open the file and read its contents\n",
    "with open(file_path, 'r') as file:\n",
    "    content = file.read()\n",
    "\n",
    "# Print the content of the file\n",
    "print(content)\n"
   ]
  },
  {
   "cell_type": "raw",
   "id": "b9d7c85a",
   "metadata": {},
   "source": [
    "Question 7- Write a regular expression in Python to split a string into uppercase letters.\n",
    "Sample text: “ImportanceOfRegularExpressionsInPython”\n",
    "Expected Output: [‘Importance’, ‘Of’, ‘Regular’, ‘Expression’, ‘In’, ‘Python’]\n"
   ]
  },
  {
   "cell_type": "code",
   "execution_count": 14,
   "id": "39824c08",
   "metadata": {},
   "outputs": [
    {
     "name": "stdout",
     "output_type": "stream",
     "text": [
      "['mportance', '', 'f', '', 'egular', '', 'xpressions', '', 'n', '']\n"
     ]
    }
   ],
   "source": [
    "import re\n",
    "\n",
    "def split_uppercase_letters(input_string):\n",
    "    # Define the regular expression pattern\n",
    "    pattern = r'[a-z]+(?=[A-Z])|(?<=[a-z])(?=[A-Z][a-z])'\n",
    "    \n",
    "    # Use re.findall() to split the string based on the pattern\n",
    "    words = re.findall(pattern, input_string)\n",
    "    \n",
    "    return words\n",
    "\n",
    "# Sample text\n",
    "sample_text = \"ImportanceOfRegularExpressionsInPython\"\n",
    "\n",
    "# Split the text into words based on uppercase letters\n",
    "result = split_uppercase_letters(sample_text)\n",
    "\n",
    "# Print the result\n",
    "print(result)\n"
   ]
  },
  {
   "cell_type": "raw",
   "id": "7c5d689b",
   "metadata": {},
   "source": [
    "Question 8- Create a function in python to insert spaces between words starting with numbers.\n",
    "Sample Text: “RegularExpression1IsAn2ImportantTopic3InPython\"\n",
    "Expected Output: RegularExpression 1IsAn 2ImportantTopic 3InPython\n"
   ]
  },
  {
   "cell_type": "code",
   "execution_count": 15,
   "id": "c4985373",
   "metadata": {},
   "outputs": [
    {
     "name": "stdout",
     "output_type": "stream",
     "text": [
      "RegularExpression 1IsAn 2ImportantTopic 3InPython\n"
     ]
    }
   ],
   "source": [
    "import re\n",
    "\n",
    "def insert_spaces(text):\n",
    "    # Define the regular expression pattern\n",
    "    pattern = r'(?<=[a-zA-Z])(?=\\d)'\n",
    "    \n",
    "    # Use re.sub() to insert spaces based on the pattern\n",
    "    modified_text = re.sub(pattern, ' ', text)\n",
    "    \n",
    "    return modified_text\n",
    "\n",
    "# Sample text\n",
    "sample_text = \"RegularExpression1IsAn2ImportantTopic3InPython\"\n",
    "\n",
    "# Insert spaces between words starting with numbers\n",
    "result = insert_spaces(sample_text)\n",
    "\n",
    "# Print the result\n",
    "print(result)\n"
   ]
  },
  {
   "cell_type": "raw",
   "id": "dd9d83dc",
   "metadata": {},
   "source": [
    "Question 9- Create a function in python to insert spaces between words starting with capital letters or with numbers.\n",
    "Sample Text: “RegularExpression1IsAn2ImportantTopic3InPython\"\n",
    "Expected Output:  RegularExpression 1 IsAn 2 ImportantTopic 3 InPython\n"
   ]
  },
  {
   "cell_type": "code",
   "execution_count": 16,
   "id": "9c797ffb",
   "metadata": {},
   "outputs": [
    {
     "name": "stdout",
     "output_type": "stream",
     "text": [
      "Regular Expression 1 Is An 2 Important Topic 3 In Python\n"
     ]
    }
   ],
   "source": [
    "import re\n",
    "\n",
    "def insert_spaces(text):\n",
    "    # Define the regular expression pattern\n",
    "    pattern = r'(?<=[a-z])(?=[A-Z\\d])|(?<=\\d)(?=[A-Z])'\n",
    "    \n",
    "    # Use re.sub() to insert spaces based on the pattern\n",
    "    modified_text = re.sub(pattern, ' ', text)\n",
    "    \n",
    "    return modified_text\n",
    "\n",
    "# Sample text\n",
    "sample_text = \"RegularExpression1IsAn2ImportantTopic3InPython\"\n",
    "\n",
    "# Insert spaces between words starting with capital letters or numbers\n",
    "result = insert_spaces(sample_text)\n",
    "\n",
    "# Print the result\n",
    "print(result)\n"
   ]
  },
  {
   "cell_type": "raw",
   "id": "b0e1a8fb",
   "metadata": {},
   "source": [
    "Question 10- Use the github link below to read the data and create a dataframe. After creating the dataframe extract the first 6 letters of each country and store in the dataframe under a new column called first_five_letters."
   ]
  },
  {
   "cell_type": "code",
   "execution_count": 19,
   "id": "61e8b6b5",
   "metadata": {},
   "outputs": [
    {
     "name": "stdout",
     "output_type": "stream",
     "text": [
      "Original DataFrame:\n",
      "       Country          Region  Happiness Rank  Happiness Score  \\\n",
      "0  Switzerland  Western Europe               1            7.587   \n",
      "1      Iceland  Western Europe               2            7.561   \n",
      "2      Denmark  Western Europe               3            7.527   \n",
      "3       Norway  Western Europe               4            7.522   \n",
      "4       Canada   North America               5            7.427   \n",
      "\n",
      "   Standard Error  Economy (GDP per Capita)   Family  \\\n",
      "0         0.03411                   1.39651  1.34951   \n",
      "1         0.04884                   1.30232  1.40223   \n",
      "2         0.03328                   1.32548  1.36058   \n",
      "3         0.03880                   1.45900  1.33095   \n",
      "4         0.03553                   1.32629  1.32261   \n",
      "\n",
      "   Health (Life Expectancy)  Freedom  Trust (Government Corruption)  \\\n",
      "0                   0.94143  0.66557                        0.41978   \n",
      "1                   0.94784  0.62877                        0.14145   \n",
      "2                   0.87464  0.64938                        0.48357   \n",
      "3                   0.88521  0.66973                        0.36503   \n",
      "4                   0.90563  0.63297                        0.32957   \n",
      "\n",
      "   Generosity  Dystopia Residual  \n",
      "0     0.29678            2.51738  \n",
      "1     0.43630            2.70201  \n",
      "2     0.34139            2.49204  \n",
      "3     0.34699            2.46531  \n",
      "4     0.45811            2.45176  \n",
      "\n",
      "DataFrame with first five letters extracted:\n",
      "       Country          Region  Happiness Rank  Happiness Score  \\\n",
      "0  Switzerland  Western Europe               1            7.587   \n",
      "1      Iceland  Western Europe               2            7.561   \n",
      "2      Denmark  Western Europe               3            7.527   \n",
      "3       Norway  Western Europe               4            7.522   \n",
      "4       Canada   North America               5            7.427   \n",
      "\n",
      "   Standard Error  Economy (GDP per Capita)   Family  \\\n",
      "0         0.03411                   1.39651  1.34951   \n",
      "1         0.04884                   1.30232  1.40223   \n",
      "2         0.03328                   1.32548  1.36058   \n",
      "3         0.03880                   1.45900  1.33095   \n",
      "4         0.03553                   1.32629  1.32261   \n",
      "\n",
      "   Health (Life Expectancy)  Freedom  Trust (Government Corruption)  \\\n",
      "0                   0.94143  0.66557                        0.41978   \n",
      "1                   0.94784  0.62877                        0.14145   \n",
      "2                   0.87464  0.64938                        0.48357   \n",
      "3                   0.88521  0.66973                        0.36503   \n",
      "4                   0.90563  0.63297                        0.32957   \n",
      "\n",
      "   Generosity  Dystopia Residual first_five_letters  \n",
      "0     0.29678            2.51738             Switze  \n",
      "1     0.43630            2.70201             Icelan  \n",
      "2     0.34139            2.49204             Denmar  \n",
      "3     0.34699            2.46531             Norway  \n",
      "4     0.45811            2.45176             Canada  \n"
     ]
    }
   ],
   "source": [
    "import pandas as pd\n",
    "\n",
    "# GitHub URL to fetch the data\n",
    "url = \"https://raw.githubusercontent.com/dsrscientist/DSData/master/happiness_score_dataset.csv\"\n",
    "\n",
    "# Read the data into a Pandas DataFrame\n",
    "df = pd.read_csv(url)\n",
    "\n",
    "# Display the first few rows of the dataframe\n",
    "print(\"Original DataFrame:\")\n",
    "print(df.head())\n",
    "\n",
    "# Extract the first 6 letters of each country and store in a new column\n",
    "df['first_five_letters'] = df['Country'].str.slice(stop=6)\n",
    "\n",
    "# Display the dataframe with the new column\n",
    "print(\"\\nDataFrame with first five letters extracted:\")\n",
    "print(df.head())\n"
   ]
  },
  {
   "cell_type": "raw",
   "id": "dbd3702a",
   "metadata": {},
   "source": [
    "Question 11- Write a Python program to match a string that contains only upper and lowercase letters, numbers, and underscores."
   ]
  },
  {
   "cell_type": "code",
   "execution_count": 20,
   "id": "36c19675",
   "metadata": {},
   "outputs": [
    {
     "name": "stdout",
     "output_type": "stream",
     "text": [
      "Hello_World123: Match\n",
      "Python3: Match\n",
      "_underscore: Match\n",
      "12345: Match\n",
      "non_alphanumeric#: No match\n",
      "mixed_Case123: Match\n",
      "another_example_: Match\n"
     ]
    }
   ],
   "source": [
    "import re\n",
    "\n",
    "def is_alphanumeric_underscore(input_string):\n",
    "    # Define the regular expression pattern\n",
    "    pattern = r'^[a-zA-Z0-9_]+$'\n",
    "    \n",
    "    # Use re.match() to match the pattern against the input string\n",
    "    if re.match(pattern, input_string):\n",
    "        return True\n",
    "    else:\n",
    "        return False\n",
    "\n",
    "# Test cases\n",
    "test_strings = [\n",
    "    \"Hello_World123\",\n",
    "    \"Python3\",\n",
    "    \"_underscore\",\n",
    "    \"12345\",\n",
    "    \"non_alphanumeric#\",\n",
    "    \"mixed_Case123\",\n",
    "    \"another_example_\",\n",
    "]\n",
    "\n",
    "# Check each test string\n",
    "for string in test_strings:\n",
    "    if is_alphanumeric_underscore(string):\n",
    "        print(f\"{string}: Match\")\n",
    "    else:\n",
    "        print(f\"{string}: No match\")\n"
   ]
  },
  {
   "cell_type": "raw",
   "id": "c39c6fc5",
   "metadata": {},
   "source": [
    "Question 12- Write a Python program where a string will start with a specific number. "
   ]
  },
  {
   "cell_type": "code",
   "execution_count": 21,
   "id": "4a590fbf",
   "metadata": {},
   "outputs": [
    {
     "name": "stdout",
     "output_type": "stream",
     "text": [
      "12345abc: Starts with 123\n",
      "456xyz: Does not start with 123\n",
      "789: Does not start with 123\n",
      "123456: Starts with 123\n",
      "abc123: Does not start with 123\n"
     ]
    }
   ],
   "source": [
    "import re\n",
    "\n",
    "def starts_with_number(input_string, number):\n",
    "    # Convert number to string and create the pattern\n",
    "    number_str = str(number)\n",
    "    pattern = r'^' + re.escape(number_str)\n",
    "    \n",
    "    # Use re.match() to match the pattern against the input string\n",
    "    if re.match(pattern, input_string):\n",
    "        return True\n",
    "    else:\n",
    "        return False\n",
    "\n",
    "# Test cases\n",
    "test_strings = [\n",
    "    \"12345abc\",\n",
    "    \"456xyz\",\n",
    "    \"789\",\n",
    "    \"123456\",\n",
    "    \"abc123\",\n",
    "]\n",
    "\n",
    "# Specify the number to check for\n",
    "specific_number = 123\n",
    "\n",
    "# Check each test string\n",
    "for string in test_strings:\n",
    "    if starts_with_number(string, specific_number):\n",
    "        print(f\"{string}: Starts with {specific_number}\")\n",
    "    else:\n",
    "        print(f\"{string}: Does not start with {specific_number}\")\n"
   ]
  },
  {
   "cell_type": "raw",
   "id": "bf098188",
   "metadata": {},
   "source": [
    "Question 13- Write a Python program to remove leading zeros from an IP address"
   ]
  },
  {
   "cell_type": "code",
   "execution_count": 22,
   "id": "ddeecadf",
   "metadata": {},
   "outputs": [
    {
     "name": "stdout",
     "output_type": "stream",
     "text": [
      "Original: 192.168.001.001 -> Cleaned: 192.168.1.1\n",
      "Original: 010.001.002.003 -> Cleaned: 10.1.2.3\n",
      "Original: 255.000.000.000 -> Cleaned: 255.0.0.0\n",
      "Original: 000.000.000.001 -> Cleaned: 0.0.0.1\n"
     ]
    }
   ],
   "source": [
    "def remove_leading_zeros(ip_address):\n",
    "    # Split the IP address into octets\n",
    "    octets = ip_address.split('.')\n",
    "    \n",
    "    # Remove leading zeros from each octet and rejoin them\n",
    "    cleaned_octets = [str(int(octet)) for octet in octets]\n",
    "    \n",
    "    # Join the cleaned octets back into an IP address\n",
    "    cleaned_ip_address = '.'.join(cleaned_octets)\n",
    "    \n",
    "    return cleaned_ip_address\n",
    "\n",
    "# Test cases\n",
    "ip_addresses = [\n",
    "    \"192.168.001.001\",\n",
    "    \"010.001.002.003\",\n",
    "    \"255.000.000.000\",\n",
    "    \"000.000.000.001\",\n",
    "]\n",
    "\n",
    "# Remove leading zeros from each IP address\n",
    "for ip in ip_addresses:\n",
    "    cleaned_ip = remove_leading_zeros(ip)\n",
    "    print(f\"Original: {ip} -> Cleaned: {cleaned_ip}\")\n",
    "\n",
    "    "
   ]
  },
  {
   "cell_type": "raw",
   "id": "94fdcdad",
   "metadata": {},
   "source": [
    "Question 14- Write a regular expression in python to match a date string in the form of Month name followed by day number and year stored in a text file.\n",
    "Sample text :  ' On August 15th 1947 that India was declared independent from British colonialism, and the reins of control were handed over to the leaders of the Country’.\n",
    "Expected Output- August 15th 1947\n",
    "Note- Store given sample text in the text file and then extract the date string asked format.\n"
   ]
  },
  {
   "cell_type": "code",
   "execution_count": 23,
   "id": "8ea9ec72",
   "metadata": {},
   "outputs": [
    {
     "name": "stdout",
     "output_type": "stream",
     "text": [
      "No date string matching the pattern found.\n"
     ]
    }
   ],
   "source": [
    "import re\n",
    "\n",
    "# Read the text from the file\n",
    "with open('sample_text.txt', 'r') as file:\n",
    "    text = file.read()\n",
    "\n",
    "# Define the regular expression pattern\n",
    "pattern = r'\\b(?:January|February|March|April|May|June|July|August|September|October|November|December)\\s+\\d{1,2}(?:st|nd|rd|th)?\\s+\\d{4}\\b'\n",
    "\n",
    "# Search for the date string in the text\n",
    "match = re.search(pattern, text)\n",
    "\n",
    "# Extract the matched date string\n",
    "if match:\n",
    "    date_string = match.group(0)\n",
    "    print(\"Extracted Date String:\", date_string)\n",
    "else:\n",
    "    print(\"No date string matching the pattern found.\")\n"
   ]
  },
  {
   "cell_type": "raw",
   "id": "97e33f9c",
   "metadata": {},
   "source": [
    "Question 15- Write a Python program to search some literals strings in a string. \n",
    "Sample text : 'The quick brown fox jumps over the lazy dog.'\n",
    "Searched words : 'fox', 'dog', 'horse'\n"
   ]
  },
  {
   "cell_type": "code",
   "execution_count": 24,
   "id": "9cb826b8",
   "metadata": {},
   "outputs": [
    {
     "name": "stdout",
     "output_type": "stream",
     "text": [
      "Found words: ['fox', 'dog']\n"
     ]
    }
   ],
   "source": [
    "def search_literals(text, searched_words):\n",
    "    found_words = []\n",
    "    for word in searched_words:\n",
    "        if word in text:\n",
    "            found_words.append(word)\n",
    "    return found_words\n",
    "\n",
    "# Sample text and searched words\n",
    "sample_text = 'The quick brown fox jumps over the lazy dog.'\n",
    "searched_words = ['fox', 'dog', 'horse']\n",
    "\n",
    "# Search for the literals in the sample text\n",
    "found_words = search_literals(sample_text, searched_words)\n",
    "\n",
    "# Print the found words\n",
    "print(\"Found words:\", found_words)\n"
   ]
  },
  {
   "cell_type": "raw",
   "id": "d1d588bf",
   "metadata": {},
   "source": [
    "Question 16- Write a Python program to search a literals string in a string and also find the location within the original string where the pattern occurs\n",
    "Sample text : 'The quick brown fox jumps over the lazy dog.'\n",
    "Searched words : 'fox'\n"
   ]
  },
  {
   "cell_type": "code",
   "execution_count": 25,
   "id": "ef227fb9",
   "metadata": {},
   "outputs": [
    {
     "name": "stdout",
     "output_type": "stream",
     "text": [
      "The pattern 'fox' found at locations: [16]\n"
     ]
    }
   ],
   "source": [
    "def search_and_find_location(text, pattern):\n",
    "    found_locations = []\n",
    "    start = 0\n",
    "    while True:\n",
    "        # Search for the pattern starting from 'start' index\n",
    "        start_index = text.find(pattern, start)\n",
    "        if start_index == -1:\n",
    "            break\n",
    "        found_locations.append(start_index)\n",
    "        # Move start index forward to search for the next occurrence\n",
    "        start = start_index + 1\n",
    "    return found_locations\n",
    "\n",
    "# Sample text and searched pattern\n",
    "sample_text = 'The quick brown fox jumps over the lazy dog.'\n",
    "searched_pattern = 'fox'\n",
    "\n",
    "# Search for the pattern in the sample text and find locations\n",
    "found_locations = search_and_find_location(sample_text, searched_pattern)\n",
    "\n",
    "# Print the found locations\n",
    "if found_locations:\n",
    "    print(f\"The pattern '{searched_pattern}' found at locations: {found_locations}\")\n",
    "else:\n",
    "    print(f\"The pattern '{searched_pattern}' not found in the text.\")\n"
   ]
  },
  {
   "cell_type": "raw",
   "id": "05a0d4a7",
   "metadata": {},
   "source": [
    "Question 17- Write a Python program to find the substrings within a string.\n",
    "Sample text : 'Python exercises, PHP exercises, C# exercises'\n",
    "Pattern : 'exercises'.\n"
   ]
  },
  {
   "cell_type": "code",
   "execution_count": 26,
   "id": "4f7c2aa1",
   "metadata": {},
   "outputs": [
    {
     "name": "stdout",
     "output_type": "stream",
     "text": [
      "Found substrings: ['exercises', 'exercises', 'exercises']\n"
     ]
    }
   ],
   "source": [
    "import re\n",
    "\n",
    "def find_substrings(text, pattern):\n",
    "    # Compile the pattern into a regex object\n",
    "    regex = re.compile(re.escape(pattern))\n",
    "    \n",
    "    # Find all occurrences of the pattern in the text\n",
    "    substrings = regex.findall(text)\n",
    "    \n",
    "    return substrings\n",
    "\n",
    "# Sample text and pattern to search for\n",
    "sample_text = 'Python exercises, PHP exercises, C# exercises'\n",
    "pattern = 'exercises'\n",
    "\n",
    "# Find all occurrences of the pattern in the sample text\n",
    "found_substrings = find_substrings(sample_text, pattern)\n",
    "\n",
    "# Print the found substrings\n",
    "print(\"Found substrings:\", found_substrings)\n",
    "\n"
   ]
  },
  {
   "cell_type": "raw",
   "id": "ea5d829e",
   "metadata": {},
   "source": [
    "Question 18- Write a Python program to find the occurrence and position of the substrings within a string."
   ]
  },
  {
   "cell_type": "code",
   "execution_count": 27,
   "id": "8ca8ac9c",
   "metadata": {},
   "outputs": [
    {
     "name": "stdout",
     "output_type": "stream",
     "text": [
      "Occurrences found: ['exercises', 'exercises', 'exercises']\n",
      "Positions: [7, 22, 36]\n"
     ]
    }
   ],
   "source": [
    "import re\n",
    "\n",
    "def find_occurrences_positions(text, pattern):\n",
    "    # Compile the pattern into a regex object\n",
    "    regex = re.compile(re.escape(pattern))\n",
    "    \n",
    "    # Initialize lists to store occurrences and their positions\n",
    "    occurrences = []\n",
    "    positions = []\n",
    "    \n",
    "    # Find all occurrences and their starting positions in the text\n",
    "    for match in regex.finditer(text):\n",
    "        start_index = match.start()\n",
    "        occurrences.append(pattern)\n",
    "        positions.append(start_index)\n",
    "    \n",
    "    return occurrences, positions\n",
    "\n",
    "# Sample text and pattern to search for\n",
    "sample_text = 'Python exercises, PHP exercises, C# exercises'\n",
    "pattern = 'exercises'\n",
    "\n",
    "# Find occurrences and positions of the pattern in the sample text\n",
    "found_occurrences, found_positions = find_occurrences_positions(sample_text, pattern)\n",
    "\n",
    "# Print the found occurrences and their positions\n",
    "print(\"Occurrences found:\", found_occurrences)\n",
    "print(\"Positions:\", found_positions)\n"
   ]
  },
  {
   "cell_type": "raw",
   "id": "d11722bb",
   "metadata": {},
   "source": [
    "Question 19- Write a Python program to convert a date of yyyy-mm-dd format to dd-mm-yyyy format."
   ]
  },
  {
   "cell_type": "code",
   "execution_count": 28,
   "id": "db154b7f",
   "metadata": {},
   "outputs": [
    {
     "name": "stdout",
     "output_type": "stream",
     "text": [
      "Original date: 2023-07-04\n",
      "Converted date: 04-07-2023\n"
     ]
    }
   ],
   "source": [
    "def convert_date_format(date_str):\n",
    "    # Split the date string by '-'\n",
    "    parts = date_str.split('-')\n",
    "    \n",
    "    # Rearrange the parts to form dd-mm-yyyy format\n",
    "    formatted_date = parts[2] + '-' + parts[1] + '-' + parts[0]\n",
    "    \n",
    "    return formatted_date\n",
    "\n",
    "# Example usage:\n",
    "date_str = '2023-07-04'\n",
    "formatted_date = convert_date_format(date_str)\n",
    "print(f\"Original date: {date_str}\")\n",
    "print(f\"Converted date: {formatted_date}\")\n"
   ]
  },
  {
   "cell_type": "raw",
   "id": "6832ebe7",
   "metadata": {},
   "source": [
    "Question 20- Create a function in python to find all decimal numbers with a precision of 1 or 2 in a string. The use of the re.compile() method is mandatory.\n",
    "Sample Text: \"01.12 0132.123 2.31875 145.8 3.01 27.25 0.25\"\n",
    "Expected Output: ['01.12', '145.8', '3.01', '27.25', '0.25']\n"
   ]
  },
  {
   "cell_type": "code",
   "execution_count": 29,
   "id": "9e51683c",
   "metadata": {},
   "outputs": [
    {
     "name": "stdout",
     "output_type": "stream",
     "text": [
      "Found decimal numbers: ['01.12', '145.8', '3.01', '27.25', '0.25']\n"
     ]
    }
   ],
   "source": [
    "import re\n",
    "\n",
    "def find_decimal_numbers(text):\n",
    "    # Define the regular expression pattern\n",
    "    pattern = re.compile(r'\\b\\d+\\.\\d{1,2}\\b')\n",
    "    \n",
    "    # Find all matches in the text\n",
    "    decimal_numbers = pattern.findall(text)\n",
    "    \n",
    "    return decimal_numbers\n",
    "\n",
    "# Sample text\n",
    "sample_text = \"01.12 0132.123 2.31875 145.8 3.01 27.25 0.25\"\n",
    "\n",
    "# Find decimal numbers with precision of 1 or 2 in the sample text\n",
    "found_decimal_numbers = find_decimal_numbers(sample_text)\n",
    "\n",
    "# Print the found decimal numbers\n",
    "print(\"Found decimal numbers:\", found_decimal_numbers)\n"
   ]
  },
  {
   "cell_type": "raw",
   "id": "5f226bbc",
   "metadata": {},
   "source": [
    "Question 21- Write a Python program to separate and print the numbers and their position of a given string."
   ]
  },
  {
   "cell_type": "code",
   "execution_count": 30,
   "id": "e7e2a79b",
   "metadata": {},
   "outputs": [
    {
     "name": "stdout",
     "output_type": "stream",
     "text": [
      "Number: 5, Position: 10\n",
      "Number: 12, Position: 23\n"
     ]
    }
   ],
   "source": [
    "import re\n",
    "\n",
    "def find_numbers_with_positions(text):\n",
    "    # Compile a regex pattern to find all numbers in the text\n",
    "    pattern = re.compile(r'\\d+')\n",
    "    \n",
    "    # Find all matches in the text along with their starting positions\n",
    "    matches = pattern.finditer(text)\n",
    "    \n",
    "    # Initialize a list to store numbers with their positions\n",
    "    numbers_with_positions = []\n",
    "    \n",
    "    # Iterate through matches and store numbers with their positions\n",
    "    for match in matches:\n",
    "        number = match.group(0)\n",
    "        start_position = match.start()\n",
    "        numbers_with_positions.append((number, start_position))\n",
    "    \n",
    "    return numbers_with_positions\n",
    "\n",
    "# Sample text\n",
    "sample_text = \"There are 5 apples and 12 oranges on the table.\"\n",
    "\n",
    "# Find numbers with their positions in the sample text\n",
    "numbers_with_positions = find_numbers_with_positions(sample_text)\n",
    "\n",
    "# Print the numbers with their positions\n",
    "for number, position in numbers_with_positions:\n",
    "    print(f\"Number: {number}, Position: {position}\")\n"
   ]
  },
  {
   "cell_type": "raw",
   "id": "adc8affb",
   "metadata": {},
   "source": [
    "Question 22- Write a regular expression in python program to extract maximum/largest numeric value from a string.\n",
    "Sample Text:  'My marks in each semester are: 947, 896, 926, 524, 734, 950, 642'\n",
    "Expected Output: 950\n"
   ]
  },
  {
   "cell_type": "code",
   "execution_count": 32,
   "id": "501e2fdd",
   "metadata": {},
   "outputs": [
    {
     "name": "stdout",
     "output_type": "stream",
     "text": [
      "Maximum numeric value: 950\n"
     ]
    }
   ],
   "source": [
    "import re\n",
    "\n",
    "def extract_max_numeric_value(text):\n",
    "    # Find all numeric sequences in the text\n",
    "    numbers = re.findall(r'\\d+', text)\n",
    "    \n",
    "    # Convert numbers from strings to integers and find the maximum\n",
    "    if numbers:\n",
    "        max_value = max(int(num) for num in numbers)\n",
    "        return max_value\n",
    "    else:\n",
    "        return None  # Return None if no numeric values found\n",
    "\n",
    "# Sample text\n",
    "sample_text = 'My marks in each semester are: 947, 896, 926, 524, 734, 950, 642'\n",
    "\n",
    "# Extract the maximum numeric value from the sample text\n",
    "max_numeric_value = extract_max_numeric_value(sample_text)\n",
    "\n",
    "# Print the maximum numeric value found\n",
    "print(\"Maximum numeric value:\", max_numeric_value)\n"
   ]
  },
  {
   "cell_type": "raw",
   "id": "18d830b3",
   "metadata": {},
   "source": [
    "Question 23- Create a function in python to insert spaces between words starting with capital letters.\n",
    "Sample Text: “RegularExpressionIsAnImportantTopicInPython\"\n",
    "Expected Output: Regular Expression Is An Important Topic In Python\n"
   ]
  },
  {
   "cell_type": "code",
   "execution_count": 33,
   "id": "75328dca",
   "metadata": {},
   "outputs": [
    {
     "name": "stdout",
     "output_type": "stream",
     "text": [
      "Original text: RegularExpressionIsAnImportantTopicInPython\n",
      "Modified text: Regular Expression Is An Important Topic In Python\n"
     ]
    }
   ],
   "source": [
    "import re\n",
    "\n",
    "def insert_spaces(text):\n",
    "    # Use regex to insert spaces before capital letters (except the first word)\n",
    "    modified_text = re.sub(r'(?<!^)(?=[A-Z])', ' ', text)\n",
    "    return modified_text\n",
    "\n",
    "# Sample text\n",
    "sample_text = \"RegularExpressionIsAnImportantTopicInPython\"\n",
    "\n",
    "# Insert spaces between words starting with capital letters\n",
    "modified_text = insert_spaces(sample_text)\n",
    "\n",
    "# Print the modified text\n",
    "print(\"Original text:\", sample_text)\n",
    "print(\"Modified text:\", modified_text)\n"
   ]
  },
  {
   "cell_type": "raw",
   "id": "9d0ca76a",
   "metadata": {},
   "source": [
    "Question 24- Python regex to find sequences of one upper case letter followed by lower case letters"
   ]
  },
  {
   "cell_type": "code",
   "execution_count": 34,
   "id": "1309af0d",
   "metadata": {},
   "outputs": [
    {
     "name": "stdout",
     "output_type": "stream",
     "text": [
      "Found sequences: ['Hello', 'World', 'Beautiful', 'Place', 'Beautiful', 'People']\n"
     ]
    }
   ],
   "source": [
    "import re\n",
    "\n",
    "def find_uppercase_followed_by_lowercase(text):\n",
    "    # Define the regex pattern\n",
    "    pattern = re.compile(r'[A-Z][a-z]+')\n",
    "    \n",
    "    # Find all matches in the text\n",
    "    matches = pattern.findall(text)\n",
    "    \n",
    "    return matches\n",
    "\n",
    "# Sample text\n",
    "sample_text = \"Hello World is a Beautiful Place with Beautiful People\"\n",
    "\n",
    "# Find sequences of one upper case letter followed by lower case letters\n",
    "found_sequences = find_uppercase_followed_by_lowercase(sample_text)\n",
    "\n",
    "# Print the found sequences\n",
    "print(\"Found sequences:\", found_sequences)\n"
   ]
  },
  {
   "cell_type": "raw",
   "id": "f3032014",
   "metadata": {},
   "source": [
    "\n",
    "Question 25- Write a Python program to remove continuous duplicate words from Sentence using Regular Expression.\n",
    "Sample Text: \"Hello hello world world\"\n",
    "Expected Output: Hello hello world\n"
   ]
  },
  {
   "cell_type": "code",
   "execution_count": 35,
   "id": "8c4442ec",
   "metadata": {},
   "outputs": [
    {
     "name": "stdout",
     "output_type": "stream",
     "text": [
      "Original sentence: Hello hello world world\n",
      "Cleaned sentence: Hello world\n"
     ]
    }
   ],
   "source": [
    "import re\n",
    "\n",
    "def remove_continuous_duplicates(sentence):\n",
    "    # Define the regex pattern to find continuous duplicate words\n",
    "    pattern = re.compile(r'\\b(\\w+)(\\s+\\1)+\\b', re.IGNORECASE)\n",
    "    \n",
    "    # Use re.sub() to remove continuous duplicate words\n",
    "    cleaned_sentence = re.sub(pattern, r'\\1', sentence)\n",
    "    \n",
    "    return cleaned_sentence\n",
    "\n",
    "# Sample sentence\n",
    "sample_sentence = \"Hello hello world world\"\n",
    "\n",
    "# Remove continuous duplicate words from the sample sentence\n",
    "cleaned_sentence = remove_continuous_duplicates(sample_sentence)\n",
    "\n",
    "# Print the cleaned sentence\n",
    "print(\"Original sentence:\", sample_sentence)\n",
    "print(\"Cleaned sentence:\", cleaned_sentence)\n"
   ]
  },
  {
   "cell_type": "raw",
   "id": "5a34dccd",
   "metadata": {},
   "source": [
    "Question 26-  Write a python program using RegEx to accept string ending with alphanumeric character."
   ]
  },
  {
   "cell_type": "code",
   "execution_count": 36,
   "id": "cdb65c24",
   "metadata": {},
   "outputs": [
    {
     "name": "stdout",
     "output_type": "stream",
     "text": [
      "String 'Hello123' ends with an alphanumeric character.\n",
      "String 'ABC123!' does not end with an alphanumeric character.\n",
      "String 'testing  ' does not end with an alphanumeric character.\n",
      "String 'Python$' does not end with an alphanumeric character.\n",
      "String '12345' ends with an alphanumeric character.\n",
      "String '  ABC  ' does not end with an alphanumeric character.\n"
     ]
    }
   ],
   "source": [
    "import re\n",
    "\n",
    "def check_ending_alphanumeric(text):\n",
    "    # Define the regex pattern to match string ending with alphanumeric character\n",
    "    pattern = re.compile(r'^.*[a-zA-Z0-9]$')\n",
    "    \n",
    "    # Check if the input text matches the pattern\n",
    "    if pattern.match(text):\n",
    "        return True\n",
    "    else:\n",
    "        return False\n",
    "\n",
    "# Test cases\n",
    "test_strings = [\n",
    "    \"Hello123\",   # Ends with alphanumeric character\n",
    "    \"ABC123!\",    # Does not end with alphanumeric character\n",
    "    \"testing  \",   # Does not end with alphanumeric character\n",
    "    \"Python$\",    # Does not end with alphanumeric character\n",
    "    \"12345\",      # Ends with alphanumeric character\n",
    "    \"  ABC  \"     # Does not end with alphanumeric character\n",
    "]\n",
    "\n",
    "# Check each test string\n",
    "for test_str in test_strings:\n",
    "    if check_ending_alphanumeric(test_str):\n",
    "        print(f\"String '{test_str}' ends with an alphanumeric character.\")\n",
    "    else:\n",
    "        print(f\"String '{test_str}' does not end with an alphanumeric character.\")\n"
   ]
  },
  {
   "cell_type": "raw",
   "id": "08f6e66f",
   "metadata": {},
   "source": [
    "Question 27-Write a python program using RegEx to extract the hashtags.\n",
    "Sample Text:  \"\"\"RT @kapil_kausik: #Doltiwal I mean #xyzabc is \"hurt\" by #Demonetization as the same has rendered USELESS <ed><U+00A0><U+00BD><ed><U+00B1><U+0089> \"acquired funds\" No wo\"\"\"\n",
    "Expected Output: ['#Doltiwal', '#xyzabc', '#Demonetization']\n"
   ]
  },
  {
   "cell_type": "code",
   "execution_count": 38,
   "id": "0b98217c",
   "metadata": {},
   "outputs": [
    {
     "name": "stdout",
     "output_type": "stream",
     "text": [
      "Extracted hashtags: ['#Doltiwal', '#xyzabc', '#Demonetization']\n"
     ]
    }
   ],
   "source": [
    "import re\n",
    "\n",
    "def extract_hashtags(text):\n",
    "    # Define the regex pattern to find hashtags\n",
    "    pattern = re.compile(r'#\\w+')\n",
    "    \n",
    "    # Find all matches in the text\n",
    "    hashtags = pattern.findall(text)\n",
    "    \n",
    "    return hashtags\n",
    "\n",
    "# Sample text\n",
    "sample_text = \"\"\"RT @kapil_kausik: #Doltiwal I mean #xyzabc is \"hurt\" by #Demonetization as the same has rendered USELESS <ed><U+00A0><U+00BD><ed><U+00B1><U+0089> \"acquired funds\" No wo\"\"\"\n",
    "\n",
    "# Extract hashtags from the sample text\n",
    "extracted_hashtags = extract_hashtags(sample_text)\n",
    "\n",
    "# Print the extracted hashtags\n",
    "print(\"Extracted hashtags:\", extracted_hashtags)\n"
   ]
  },
  {
   "cell_type": "raw",
   "id": "dbdacc22",
   "metadata": {},
   "source": [
    "Question 28- Write a python program using RegEx to remove <U+..> like symbols\n",
    "Check the below sample text, there are strange symbols something of the sort <U+..> all over the place. You need to come up with a general Regex expression that will cover all such symbols.\n",
    "Sample Text: \"@Jags123456 Bharat band on 28??<ed><U+00A0><U+00BD><ed><U+00B8><U+0082>Those who  are protesting #demonetization  are all different party leaders\"\n",
    "Expected Output: @Jags123456 Bharat band on 28??<ed><ed>Those who  are protesting #demonetization  are all different party leaders\n"
   ]
  },
  {
   "cell_type": "code",
   "execution_count": 39,
   "id": "5ab293cb",
   "metadata": {},
   "outputs": [
    {
     "name": "stdout",
     "output_type": "stream",
     "text": [
      "Original text: @Jags123456 Bharat band on 28??<ed><U+00A0><U+00BD><ed><U+00B8><U+0082>Those who  are protesting #demonetization  are all different party leaders\n",
      "Cleaned text: @Jags123456 Bharat band on 28??<ed><ed>Those who  are protesting #demonetization  are all different party leaders\n"
     ]
    }
   ],
   "source": [
    "import re\n",
    "\n",
    "def remove_u_symbols(text):\n",
    "    # Define the regex pattern to match <U+..> like symbols\n",
    "    pattern = re.compile(r'<U\\+[0-9A-Fa-f]{2,4}>')\n",
    "    \n",
    "    # Use re.sub() to remove the symbols from the text\n",
    "    cleaned_text = re.sub(pattern, '', text)\n",
    "    \n",
    "    return cleaned_text\n",
    "\n",
    "# Sample text\n",
    "sample_text = \"@Jags123456 Bharat band on 28??<ed><U+00A0><U+00BD><ed><U+00B8><U+0082>Those who  are protesting #demonetization  are all different party leaders\"\n",
    "\n",
    "# Remove <U+..> like symbols from the sample text\n",
    "cleaned_text = remove_u_symbols(sample_text)\n",
    "\n",
    "# Print the cleaned text\n",
    "print(\"Original text:\", sample_text)\n",
    "print(\"Cleaned text:\", cleaned_text)\n"
   ]
  },
  {
   "cell_type": "raw",
   "id": "999c4ba5",
   "metadata": {},
   "source": [
    "Question 29- Write a python program to extract dates from the text stored in the text file.\n",
    "Sample Text: Ron was born on 12-09-1992 and he was admitted to school 15-12-1999.\n",
    "Note- Store this sample text in the file and then extract dates.\n"
   ]
  },
  {
   "cell_type": "code",
   "execution_count": 40,
   "id": "c50eeadf",
   "metadata": {},
   "outputs": [
    {
     "name": "stdout",
     "output_type": "stream",
     "text": [
      "Extracted dates: ['12-09-1992', '15-12-1999']\n"
     ]
    }
   ],
   "source": [
    "import re\n",
    "\n",
    "def extract_dates_from_file(filename):\n",
    "    # Read the contents of the text file\n",
    "    with open(filename, 'r') as file:\n",
    "        text = file.read()\n",
    "    \n",
    "    # Define the regex pattern to match dates in the format DD-MM-YYYY\n",
    "    pattern = re.compile(r'\\b\\d{2}-\\d{2}-\\d{4}\\b')\n",
    "    \n",
    "    # Find all matches in the text\n",
    "    dates = pattern.findall(text)\n",
    "    \n",
    "    return dates\n",
    "\n",
    "# Specify the filename containing the sample text\n",
    "filename = 'sample_text2.txt'\n",
    "\n",
    "# Extract dates from the text file\n",
    "extracted_dates = extract_dates_from_file(filename)\n",
    "\n",
    "# Print the extracted dates\n",
    "print(\"Extracted dates:\", extracted_dates)\n"
   ]
  },
  {
   "cell_type": "raw",
   "id": "7f658c9a",
   "metadata": {},
   "source": [
    "Question 30- Create a function in python to remove all words from a string of length between 2 and 4.\n",
    "The use of the re.compile() method is mandatory.\n",
    "Sample Text: \"The following example creates an ArrayList with a capacity of 50 elements. 4 elements are then added to the ArrayList and the ArrayList is trimmed accordingly.\"\n",
    "Expected Output:  following example creates ArrayList a capacity elements. 4 elements added ArrayList ArrayList trimmed accordingly.\n",
    "\n"
   ]
  },
  {
   "cell_type": "code",
   "execution_count": 41,
   "id": "4397b1e0",
   "metadata": {},
   "outputs": [
    {
     "name": "stdout",
     "output_type": "stream",
     "text": [
      "Original text: The following example creates an ArrayList with a capacity of 50 elements. 4 elements are then added to the ArrayList and the ArrayList is trimmed accordingly.\n",
      "Cleaned text:  following example creates  ArrayList  a capacity   elements. 4 elements   added   ArrayList   ArrayList  trimmed accordingly.\n"
     ]
    }
   ],
   "source": [
    "import re\n",
    "\n",
    "def remove_words_of_length_2_to_4(text):\n",
    "    # Define the regex pattern to match words of length 2 to 4\n",
    "    pattern = re.compile(r'\\b\\w{2,4}\\b')\n",
    "    \n",
    "    # Replace matched words with an empty string\n",
    "    cleaned_text = pattern.sub('', text)\n",
    "    \n",
    "    return cleaned_text\n",
    "\n",
    "# Sample text\n",
    "sample_text = \"The following example creates an ArrayList with a capacity of 50 elements. 4 elements are then added to the ArrayList and the ArrayList is trimmed accordingly.\"\n",
    "\n",
    "# Remove words of length 2 to 4 from the sample text\n",
    "cleaned_text = remove_words_of_length_2_to_4(sample_text)\n",
    "\n",
    "# Print the cleaned text\n",
    "print(\"Original text:\", sample_text)\n",
    "print(\"Cleaned text:\", cleaned_text)\n"
   ]
  },
  {
   "cell_type": "code",
   "execution_count": null,
   "id": "f3ad5a1c",
   "metadata": {},
   "outputs": [],
   "source": []
  }
 ],
 "metadata": {
  "kernelspec": {
   "display_name": "Python 3 (ipykernel)",
   "language": "python",
   "name": "python3"
  },
  "language_info": {
   "codemirror_mode": {
    "name": "ipython",
    "version": 3
   },
   "file_extension": ".py",
   "mimetype": "text/x-python",
   "name": "python",
   "nbconvert_exporter": "python",
   "pygments_lexer": "ipython3",
   "version": "3.11.5"
  }
 },
 "nbformat": 4,
 "nbformat_minor": 5
}
